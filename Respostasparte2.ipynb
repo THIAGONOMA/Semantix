{
 "cells": [
  {
   "cell_type": "markdown",
   "metadata": {},
   "source": [
    "# Desafio Semantix !!!"
   ]
  },
  {
   "cell_type": "markdown",
   "metadata": {},
   "source": [
    "# Desenvolvimento da Segunda Parte do Desafio:\n",
    "Responda as seguintes questões devem ser desenvolvidas em Spark utilizando a sua linguagem de preferência.\n",
    "    \n",
    "    \n",
    "    1) Número de hosts únicos.\n",
    "    r) 161884"
   ]
  },
  {
   "cell_type": "code",
   "execution_count": 2,
   "metadata": {},
   "outputs": [
    {
     "data": {
      "text/html": [
       "\n",
       "        <div>\n",
       "            <p><b>SparkContext</b></p>\n",
       "\n",
       "            <p><a href=\"http://LAPTOP-OODQM8OG:4040\">Spark UI</a></p>\n",
       "\n",
       "            <dl>\n",
       "              <dt>Version</dt>\n",
       "                <dd><code>v2.3.0</code></dd>\n",
       "              <dt>Master</dt>\n",
       "                <dd><code>local[*]</code></dd>\n",
       "              <dt>AppName</dt>\n",
       "                <dd><code>PySparkShell</code></dd>\n",
       "            </dl>\n",
       "        </div>\n",
       "        "
      ],
      "text/plain": [
       "<SparkContext master=local[*] appName=PySparkShell>"
      ]
     },
     "execution_count": 2,
     "metadata": {},
     "output_type": "execute_result"
    }
   ],
   "source": [
    "#testando a variavel Spark\n",
    "sc"
   ]
  },
  {
   "cell_type": "code",
   "execution_count": 3,
   "metadata": {},
   "outputs": [
    {
     "data": {
      "text/plain": [
       "C:/Users/thiag/Desktop/Semantix/access_log_Jul95.txt MapPartitionsRDD[1] at textFile at NativeMethodAccessorImpl.java:0"
      ]
     },
     "execution_count": 3,
     "metadata": {},
     "output_type": "execute_result"
    }
   ],
   "source": [
    "#Acessando o arquivo de Julho\n",
    "base = sc.textFile(\"C:/Users/thiag/Desktop/Semantix/access_log_Jul95.txt\")\n",
    "base"
   ]
  },
  {
   "cell_type": "code",
   "execution_count": 4,
   "metadata": {},
   "outputs": [
    {
     "data": {
      "text/plain": [
       "'199.72.81.55 - - [01/Jul/1995:00:00:01 -0400] \"GET /history/apollo/ HTTP/1.0\" 200 6245'"
      ]
     },
     "execution_count": 4,
     "metadata": {},
     "output_type": "execute_result"
    }
   ],
   "source": [
    "#Checando assinatura da row\n",
    "base.first()"
   ]
  },
  {
   "cell_type": "code",
   "execution_count": 5,
   "metadata": {},
   "outputs": [
    {
     "data": {
      "text/plain": [
       "'199.72.81.55'"
      ]
     },
     "execution_count": 5,
     "metadata": {},
     "output_type": "execute_result"
    }
   ],
   "source": [
    "#Splitando por ' - - ', e retiramos as partes da string diferente dos holts\n",
    "temp1 = base.flatMap(lambda k: k.split(\" - - \"))\n",
    "temp1"
   ]
  },
  {
   "cell_type": "code",
   "execution_count": 20,
   "metadata": {},
   "outputs": [
    {
     "data": {
      "text/plain": [
       "84977"
      ]
     },
     "execution_count": 20,
     "metadata": {},
     "output_type": "execute_result"
    }
   ],
   "source": [
    "#filtrando partes Holts e crindo um mapa já re\n",
    "temp2 = temp1.filter(lambda line: 'HTTP' not in line).map(lambda m: (m,1)).reduceByKey(lambda a, b: a + b)\n",
    "Holtsjul = temp2.count()\n",
    "Holtsjul"
   ]
  },
  {
   "cell_type": "code",
   "execution_count": 13,
   "metadata": {},
   "outputs": [
    {
     "data": {
      "text/plain": [
       "('unicomp6.unicomp.net', 14)"
      ]
     },
     "execution_count": 13,
     "metadata": {},
     "output_type": "execute_result"
    }
   ],
   "source": [
    "#Checando o map\n",
    "temp2.first()"
   ]
  },
  {
   "cell_type": "code",
   "execution_count": 18,
   "metadata": {},
   "outputs": [
    {
     "data": {
      "text/plain": [
       "76907"
      ]
     },
     "execution_count": 18,
     "metadata": {},
     "output_type": "execute_result"
    }
   ],
   "source": [
    "#Repitindo os mesmos procedimentos para agosto\n",
    "base2 = sc.textFile(\"C:/Users/thiag/Desktop/Semantix/access_log_Aug95.txt\")\n",
    "temp3 = base2.flatMap(lambda k: k.split(\" - - \")).filter(lambda line: 'HTTP' not in line).map(lambda m: (m,1)).reduceByKey(lambda a, b: a + b)\n",
    "HoltsAug = temp3.count()\n"
   ]
  },
  {
   "cell_type": "code",
   "execution_count": 21,
   "metadata": {},
   "outputs": [
    {
     "data": {
      "text/plain": [
       "161884"
      ]
     },
     "execution_count": 21,
     "metadata": {},
     "output_type": "execute_result"
    }
   ],
   "source": [
    "#Resultado da Promeira Questão\n",
    "Resposta1 = Holtsjul + HoltsAug\n",
    "Resposta1"
   ]
  },
  {
   "cell_type": "markdown",
   "metadata": {},
   "source": [
    "# Quetão 2\n",
    "    2. O total de erros 404.\n",
    "    r)20901"
   ]
  },
  {
   "cell_type": "code",
   "execution_count": 23,
   "metadata": {},
   "outputs": [],
   "source": [
    "#Buscando linha a linha erros 404\n",
    "Q404jul = base.flatMap(lambda k: k.split('/n')).filter(lambda line: ' 404 ' in line).count()\n",
    "Q404Aug = base2.flatMap(lambda k: k.split('/n')).filter(lambda line: ' 404 ' in line).count()"
   ]
  },
  {
   "cell_type": "code",
   "execution_count": 26,
   "metadata": {},
   "outputs": [
    {
     "data": {
      "text/plain": [
       "20901"
      ]
     },
     "execution_count": 26,
     "metadata": {},
     "output_type": "execute_result"
    }
   ],
   "source": [
    "#Resultado da Segunda Questão\n",
    "Resposta2 = Q404jul + Q404Aug\n",
    "Resposta2"
   ]
  },
  {
   "cell_type": "markdown",
   "metadata": {},
   "source": [
    "# Questão 3\n",
    "    Os 5 URLs que mais causaram erro 404.\n",
    "    R)[('dialip-217.den.mmc.com', 56),\n",
    "     ('155.148.25.4', 40),\n",
    "     ('ts8-1.westwood.ts.ucla.edu', 37),\n",
    "     ('204.62.245.32', 36),\n",
    "     ('maz3.maz.net', 36)]"
   ]
  },
  {
   "cell_type": "code",
   "execution_count": 65,
   "metadata": {},
   "outputs": [],
   "source": [
    "#Filtrando separando e contanto os campeões de erro 404\n",
    "Q404topJul = base.flatMap(lambda k: k.split('/n')).filter(lambda line: ' 404 ' in line).flatMap(lambda k: k.split(\" - - \")).filter(lambda line: 'HTTP' not in line).filter(lambda line: ' ' not in line).map(lambda m: (m,1)).reduceByKey(lambda a, b: a + b)\n",
    "Q404topAug = base2.flatMap(lambda k: k.split('/n')).filter(lambda line: ' 404 ' in line).flatMap(lambda k: k.split(\" - - \")).filter(lambda line: 'HTTP' not in line).filter(lambda line: ' ' not in line).map(lambda m: (m,1)).reduceByKey(lambda a, b: a + b)"
   ]
  },
  {
   "cell_type": "code",
   "execution_count": 66,
   "metadata": {},
   "outputs": [],
   "source": [
    "#Ordena do maior para o menor\n",
    "SortedAug = Q404topAug.sortBy(lambda x: x[1],False)\n",
    "SortedJul = Q404topJul.sortBy(lambda x: x[1],False)"
   ]
  },
  {
   "cell_type": "code",
   "execution_count": 67,
   "metadata": {},
   "outputs": [
    {
     "data": {
      "text/plain": [
       "[('dialip-217.den.mmc.com', 56),\n",
       " ('155.148.25.4', 40),\n",
       " ('ts8-1.westwood.ts.ucla.edu', 37),\n",
       " ('204.62.245.32', 36),\n",
       " ('maz3.maz.net', 36)]"
      ]
     },
     "execution_count": 67,
     "metadata": {},
     "output_type": "execute_result"
    }
   ],
   "source": [
    "#União e seleção dos 5 primeiros\n",
    "tempFim = SortedAug + SortedJul\n",
    "Resposta3 = tempFim.take(5)\n",
    "Resposta3"
   ]
  },
  {
   "cell_type": "markdown",
   "metadata": {},
   "source": [
    "# Questão 4\n",
    "    Quantidade de erros 404 por dia\n",
    "    r)[('[28/Jul', 93),\n",
    "     ('[27/Jul', 319),\n",
    "     ('[26/Jul', 329),\n",
    "     ('[25/Jul', 439),\n",
    "     ('[24/Jul', 323),\n",
    "     ('[23/Jul', 224),\n",
    "     ('[22/Jul', 191),\n",
    "     ('[21/Jul', 316),\n",
    "     ('[20/Jul', 408),\n",
    "     ('[19/Jul', 623),\n",
    "     ('[18/Jul', 445),\n",
    "     ('[17/Jul', 394),\n",
    "     ('[16/Jul', 252),\n",
    "     ('[15/Jul', 239),\n",
    "     ('[14/Jul', 386),\n",
    "     ('[13/Jul', 514),\n",
    "     ('[12/Jul', 454),\n",
    "     ('[11/Jul', 453),\n",
    "     ('[10/Jul', 381),\n",
    "     ('[09/Jul', 338),\n",
    "     ('[08/Jul', 291),\n",
    "     ('[07/Jul', 541),\n",
    "     ('[06/Jul', 614),\n",
    "     ('[05/Jul', 472),\n",
    "     ('[04/Jul', 341),\n",
    "     ('[03/Jul', 452),\n",
    "     ('[02/Jul', 279),\n",
    "     ('[01/Jul', 304),\n",
    "     ('[31/Aug', 513),\n",
    "     ('[30/Aug', 546),\n",
    "     ('[29/Aug', 408),\n",
    "     ('[28/Aug', 383),\n",
    "     ('[27/Aug', 364),\n",
    "     ('[26/Aug', 357),\n",
    "     ('[25/Aug', 403),\n",
    "     ('[24/Aug', 406),\n",
    "     ('[23/Aug', 336),\n",
    "     ('[22/Aug', 270),\n",
    "     ('[21/Aug', 296),\n",
    "     ('[20/Aug', 295),\n",
    "     ('[19/Aug', 202),\n",
    "     ('[18/Aug', 245),\n",
    "     ('[17/Aug', 261),\n",
    "     ('[16/Aug', 252),\n",
    "     ('[15/Aug', 316),\n",
    "     ('[14/Aug', 281),\n",
    "     ('[13/Aug', 212),\n",
    "     ('[12/Aug', 187),\n",
    "     ('[11/Aug', 249),\n",
    "     ('[10/Aug', 308),\n",
    "     ('[09/Aug', 274),\n",
    "     ('[08/Aug', 371),\n",
    "     ('[07/Aug', 366),\n",
    "     ('[06/Aug', 206),\n",
    "     ('[05/Aug', 227),\n",
    "     ('[04/Aug', 330),\n",
    "     ('[03/Aug', 289),\n",
    "     ('[01/Aug', 235)]"
   ]
  },
  {
   "cell_type": "code",
   "execution_count": 74,
   "metadata": {},
   "outputs": [],
   "source": [
    "#fiktrando e Map\n",
    "diaJul = base.flatMap(lambda k: k.split('/n')).filter(lambda line: ' 404 ' in line).flatMap(lambda k: k.split(' ')).filter(lambda line: '[' in line).flatMap(lambda line: line.split('/1995')).filter(lambda line: '/' in line).map(lambda m: (m,1)).reduceByKey(lambda a, b: a + b).sortBy(lambda x: x[0],False)\n",
    "diaAug = base2.flatMap(lambda k: k.split('/n')).filter(lambda line: ' 404 ' in line).flatMap(lambda k: k.split(' ')).filter(lambda line: '[' in line).flatMap(lambda line: line.split('/1995')).filter(lambda line: '/' in line).map(lambda m: (m,1)).reduceByKey(lambda a, b: a + b).sortBy(lambda x: x[0],False)"
   ]
  },
  {
   "cell_type": "code",
   "execution_count": null,
   "metadata": {},
   "outputs": [],
   "source": [
    "#juntando\n",
    "Resposta4 = diaJul + diaAug\n",
    "Resposta4.take(80)"
   ]
  },
  {
   "cell_type": "markdown",
   "metadata": {},
   "source": [
    "# Quetão 5\n",
    "    O total de bytes retornados.\n",
    "    r) 65123227715 bytes"
   ]
  },
  {
   "cell_type": "code",
   "execution_count": 109,
   "metadata": {},
   "outputs": [
    {
     "data": {
      "text/plain": [
       "(1, 65123227715)"
      ]
     },
     "execution_count": 109,
     "metadata": {},
     "output_type": "execute_result"
    }
   ],
   "source": [
    "#Tratando e separando dados\n",
    "#Mapeador split o resultado e elimina não inteiros\n",
    "def pLine(l):\n",
    "    campos = l.split(\" \")  \n",
    "    test = 1    \n",
    "    numBytes = 0 \n",
    "    try:\n",
    "        numBytes = int(campos[1])\n",
    "        return(test, numBytes)\n",
    "    except:\n",
    "        return(test, numBytes)\n",
    "#filtra e concatena\n",
    "bytesJul = base.flatMap(lambda k: k.split('/n')).flatMap(lambda k: k.split(\" - - \")).filter(lambda line: '/1995' in line).flatMap(lambda k: k.split('HTTP')).filter(lambda line: '/1995' not in line).flatMap(lambda k: k.split('\" ')).filter(lambda line: r'^[0-9]' not in line).filter(lambda line: '.' not in line)\n",
    "bytesAug = base2.flatMap(lambda k: k.split('/n')).flatMap(lambda k: k.split(\" - - \")).filter(lambda line: '/1995' in line).flatMap(lambda k: k.split('HTTP')).filter(lambda line: '/1995' not in line).flatMap(lambda k: k.split('\" ')).filter(lambda line: r'^[0-9]' not in line).filter(lambda line: '.' not in line)\n",
    "bytesJoin = bytesJul + bytesAug\n",
    "tete = bytesJoin.map(pLine).reduceByKey(lambda a, b: a + b)"
   ]
  },
  {
   "cell_type": "code",
   "execution_count": 110,
   "metadata": {},
   "outputs": [
    {
     "data": {
      "text/plain": [
       "[(1, 65123227715)]"
      ]
     },
     "execution_count": 110,
     "metadata": {},
     "output_type": "execute_result"
    }
   ],
   "source": [
    "tete.take(10)"
   ]
  }
 ],
 "metadata": {
  "kernelspec": {
   "display_name": "Python 3",
   "language": "python",
   "name": "python3"
  },
  "language_info": {
   "codemirror_mode": {
    "name": "ipython",
    "version": 3
   },
   "file_extension": ".py",
   "mimetype": "text/x-python",
   "name": "python",
   "nbconvert_exporter": "python",
   "pygments_lexer": "ipython3",
   "version": "3.6.5"
  }
 },
 "nbformat": 4,
 "nbformat_minor": 2
}
